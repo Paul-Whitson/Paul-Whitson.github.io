{
 "cells": [
  {
   "cell_type": "code",
   "execution_count": 2,
   "metadata": {},
   "outputs": [
    {
     "name": "stdout",
     "output_type": "stream",
     "text": [
      "Requirement already satisfied: pulp in /anaconda3/lib/python3.7/site-packages (1.6.10)\n",
      "Requirement already satisfied: pyparsing>=2.0.1 in /anaconda3/lib/python3.7/site-packages (from pulp) (2.3.1)\n",
      "Note: you may need to restart the kernel to use updated packages.\n"
     ]
    }
   ],
   "source": [
    "#Install PuLP linear programming module on your computer\n",
    "pip install pulp"
   ]
  },
  {
   "cell_type": "code",
   "execution_count": 2,
   "metadata": {},
   "outputs": [
    {
     "name": "stdout",
     "output_type": "stream",
     "text": [
      "Beer Supply Chain Problem:\n",
      "MINIMIZE\n",
      "269.44*Made_in_CO_for_CA_Customer + 310.31*Made_in_CO_for_FL_Customer + 261.86*Made_in_CO_for_IL_Customer + 329.76*Made_in_IL_for_CA_Customer + 307.64*Made_in_IL_for_FL_Customer + 250.38*Made_in_IL_for_IL_Customer + 404.4*Made_in_NY_for_CA_Customer + 359.55*Made_in_NY_for_FL_Customer + 325.2*Made_in_NY_for_IL_Customer + 0.0\n",
      "SUBJECT TO\n",
      "_C1: Made_in_IL_for_CA_Customer + Made_in_IL_for_FL_Customer\n",
      " + Made_in_IL_for_IL_Customer <= 150000\n",
      "\n",
      "_C2: Made_in_CO_for_FL_Customer + Made_in_IL_for_FL_Customer\n",
      " + Made_in_NY_for_FL_Customer = 100000\n",
      "\n",
      "_C3: Made_in_CO_for_IL_Customer + Made_in_IL_for_IL_Customer\n",
      " + Made_in_NY_for_IL_Customer = 250000\n",
      "\n",
      "_C4: Made_in_CO_for_CA_Customer + Made_in_IL_for_CA_Customer\n",
      " + Made_in_NY_for_CA_Customer = 150000\n",
      "\n",
      "VARIABLES\n",
      "Made_in_CO_for_CA_Customer Continuous\n",
      "Made_in_CO_for_FL_Customer Continuous\n",
      "Made_in_CO_for_IL_Customer Continuous\n",
      "Made_in_IL_for_CA_Customer Continuous\n",
      "Made_in_IL_for_FL_Customer Continuous\n",
      "Made_in_IL_for_IL_Customer Continuous\n",
      "Made_in_NY_for_CA_Customer Continuous\n",
      "Made_in_NY_for_FL_Customer Continuous\n",
      "Made_in_NY_for_IL_Customer Continuous\n",
      "\n"
     ]
    }
   ],
   "source": [
    "#Import PuLP into this Python session and name it \"p\" for future reference:\n",
    "import pulp as p\n",
    "\n",
    "# Create a LP Minimization problem \n",
    "Beer_Prob = p.LpProblem('Beer Supply Chain Problem', p.LpMinimize)  \n",
    "\n",
    "# Create problem Variables  \n",
    "CO_FL = p.LpVariable(\"Made in CO for FL Customer\", lowBound = 0)   \n",
    "CO_IL = p.LpVariable(\"Made in CO for IL Customer\", lowBound = 0)\n",
    "CO_CA = p.LpVariable(\"Made in CO for CA Customer\", lowBound = 0)\n",
    "\n",
    "IL_FL = p.LpVariable(\"Made in IL for FL Customer\", lowBound = 0)\n",
    "IL_IL = p.LpVariable(\"Made in IL for IL Customer\", lowBound = 0)\n",
    "IL_CA = p.LpVariable(\"Made in IL for CA Customer\", lowBound = 0)\n",
    "\n",
    "NY_FL = p.LpVariable(\"Made in NY for FL Customer\", lowBound = 0)\n",
    "NY_IL = p.LpVariable(\"Made in NY for IL Customer\", lowBound = 0)\n",
    "NY_CA = p.LpVariable(\"Made in NY for CA Customer\", lowBound = 0)\n",
    "\n",
    "\n",
    "# Objective Function \n",
    "Beer_Prob += (310.31*CO_FL + 261.86*CO_IL + 269.44*CO_CA + \n",
    "              307.64*IL_FL + 250.38*IL_IL + 329.76*IL_CA +\n",
    "              359.55*NY_FL + 325.20*NY_IL + 404.40*NY_CA)\n",
    "        \n",
    "\n",
    "# Capacity Constraint\n",
    "# Chicago Plant Capacity Constraint\n",
    "Beer_Prob += IL_FL + IL_IL + IL_CA <= 150000\n",
    "# In this scenario, leave other two plants unconstrained\n",
    "\n",
    "# Demand Constraints\n",
    "#Florida Demand:\n",
    "Beer_Prob += CO_FL + IL_FL + NY_FL == 100000\n",
    "#Chicago Demand:\n",
    "Beer_Prob += CO_IL + IL_IL + NY_IL == 250000\n",
    "#San Francisco Demand:\n",
    "Beer_Prob += CO_CA + IL_CA + NY_CA == 150000\n",
    "\n",
    "  \n",
    "# Display the problem \n",
    "print(Beer_Prob) \n",
    "  \n",
    " "
   ]
  },
  {
   "cell_type": "code",
   "execution_count": 6,
   "metadata": {},
   "outputs": [
    {
     "name": "stdout",
     "output_type": "stream",
     "text": [
      "Optimal\n",
      "\n",
      " Fort Collins, CO Production:  \n",
      " For CA Customers 150000.0 Barrels \n",
      " For IL Customers 100000.0 Barrels \n",
      " For FL Customers 100000.0 Barrels \n",
      " TOTAL FORT COLLINS, CO PRODUCTION:  350,000.0 \n",
      "\n",
      "\n",
      " Chicago, IL Production:  \n",
      " For CA Customers 0.0 Barrels \n",
      " For IL Customers 150000.0 Barrels \n",
      " For FL Customers 0.0 Barrels \n",
      " TOTAL CHICAGO, IL PRODUCTION:  150,000.0 \n",
      "\n",
      "\n",
      " Baldwinsville, NY Production:  \n",
      " For CA Customers 0.0 Barrels \n",
      " For IL Customers 0.0 Barrels \n",
      " For FL Customers 0.0 Barrels \n",
      " TOTAL BALDWINSVILLE, NY PRODUCTION:  0.0 \n",
      "\n",
      "\n",
      " Total Supply Chain Cost: $ 135,190,000.0\n"
     ]
    }
   ],
   "source": [
    "status = Beer_Prob.solve()   # Solver \n",
    "\n",
    "print(p.LpStatus[status])   # The solution status \n",
    "\n",
    "#Print Results\n",
    "print(\"\\n\", \"Fort Collins, CO Production: \", \"\\n\",\n",
    "      \"For CA Customers\", p.value(CO_CA), \"Barrels\", \"\\n\",\n",
    "      \"For IL Customers\", p.value(CO_IL), \"Barrels\", \"\\n\",\n",
    "      \"For FL Customers\", p.value(CO_FL), \"Barrels\", \"\\n\",\n",
    "       \"TOTAL FORT COLLINS, CO PRODUCTION: \", f'{p.value(CO_CA)+p.value(CO_IL)+p.value(CO_FL):,}', \"\\n\") \n",
    "\n",
    "print(\"\\n\", \"Chicago, IL Production: \", \"\\n\",\n",
    "      \"For CA Customers\", p.value(IL_CA), \"Barrels\", \"\\n\",\n",
    "      \"For IL Customers\", p.value(IL_IL), \"Barrels\", \"\\n\",\n",
    "      \"For FL Customers\", p.value(IL_FL), \"Barrels\", \"\\n\",\n",
    "     \"TOTAL CHICAGO, IL PRODUCTION: \", f'{p.value(IL_CA)+p.value(IL_IL)+p.value(IL_FL):,}', \"\\n\")\n",
    "\n",
    "print(\"\\n\", \"Baldwinsville, NY Production: \", \"\\n\",\n",
    "      \"For CA Customers\", p.value(NY_CA), \"Barrels\", \"\\n\",\n",
    "      \"For IL Customers\", p.value(NY_IL), \"Barrels\", \"\\n\",\n",
    "      \"For FL Customers\", p.value(NY_FL), \"Barrels\", \"\\n\",\n",
    "     \"TOTAL BALDWINSVILLE, NY PRODUCTION: \", f'{p.value(NY_CA)+p.value(NY_IL)+p.value(NY_FL):,}', \"\\n\")\n",
    "      \n",
    "print(\"\\n\", \"Total Supply Chain Cost: $\", f'{p.value(Beer_Prob.objective):,}')\n"
   ]
  },
  {
   "cell_type": "code",
   "execution_count": null,
   "metadata": {},
   "outputs": [],
   "source": []
  }
 ],
 "metadata": {
  "kernelspec": {
   "display_name": "Python 3",
   "language": "python",
   "name": "python3"
  },
  "language_info": {
   "codemirror_mode": {
    "name": "ipython",
    "version": 3
   },
   "file_extension": ".py",
   "mimetype": "text/x-python",
   "name": "python",
   "nbconvert_exporter": "python",
   "pygments_lexer": "ipython3",
   "version": "3.7.3"
  }
 },
 "nbformat": 4,
 "nbformat_minor": 2
}
